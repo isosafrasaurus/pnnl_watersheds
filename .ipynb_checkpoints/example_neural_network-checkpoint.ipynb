{
 "cells": [
  {
   "cell_type": "markdown",
   "metadata": {},
   "source": [
    "# Example Neural Network\n",
    "\n",
    "Example notebook for building and training a Keras neural network for regression"
   ]
  },
  {
   "cell_type": "code",
   "execution_count": null,
   "metadata": {},
   "outputs": [],
   "source": [
    "%load_ext autoreload\n",
    "%autoreload 2"
   ]
  },
  {
   "cell_type": "markdown",
   "metadata": {},
   "source": [
    "## Import Statements\n",
    "\n",
    "Module requirements\n",
    "- tensorflow >= 2.4.1\n",
    "- keras >= 2.2.5\n",
    "- numpy >= 1.19.5  \n",
    "- pandas >= 1.3.1\n",
    "- sklearn >= 0.24.2\n",
    "- matplotlib >= 3.4.2\n",
    "\n",
    "To upgrade a python module called `NAME`, run the following to get the latest version:  \n",
    "`pip install NAME -U`"
   ]
  },
  {
   "cell_type": "code",
   "execution_count": 2,
   "metadata": {},
   "outputs": [
    {
     "name": "stderr",
     "output_type": "stream",
     "text": [
      "//anaconda3/lib/python3.7/site-packages/pandas/compat/_optional.py:138: UserWarning: Pandas requires version '2.7.0' or newer of 'numexpr' (version '2.6.9' currently installed).\n",
      "  warnings.warn(msg, UserWarning)\n"
     ]
    }
   ],
   "source": [
    "import os\n",
    "import numpy as np\n",
    "import pandas as pd\n",
    "import matplotlib\n",
    "import matplotlib.pyplot as plt\n",
    "import sklearn \n",
    "from sklearn.model_selection import train_test_split\n",
    "from sklearn.preprocessing import StandardScaler\n",
    "\n",
    "import tensorflow as tf\n",
    "import tensorflow.keras as keras # Load keras via tensorflow\n",
    "\n",
    "from tensorflow.keras.layers import Input, Dense, Activation\n",
    "from tensorflow.keras.models import Model\n",
    "from tensorflow.keras.optimizers import Adam\n",
    "from tensorflow.keras.callbacks import CSVLogger"
   ]
  },
  {
   "cell_type": "code",
   "execution_count": 3,
   "metadata": {},
   "outputs": [],
   "source": [
    "# Set random seed (typically prime number) for reproducability\n",
    "random_seed = 1777\n",
    "np.random.seed(random_seed)"
   ]
  },
  {
   "cell_type": "markdown",
   "metadata": {},
   "source": [
    "## Load Data\n",
    "\n",
    "https://keras.io/api/datasets/boston_housing/\n",
    "\n",
    "Loads the Boston Housing dataset.\n",
    "\n",
    "This is a dataset taken from the StatLib library which is maintained at Carnegie Mellon University.\n",
    "\n",
    "Samples contain 13 attributes of houses at different locations around the Boston suburbs in the late 1970s. Targets are the median values (MEDV) of the houses at a location (in k$).\n",
    "\n",
    "The attributes themselves are defined in the StatLib website (http://lib.stat.cmu.edu/datasets/boston)\n",
    "\n",
    "For this example, I remove the `CHAS` column for simplicity"
   ]
  },
  {
   "cell_type": "code",
   "execution_count": 4,
   "metadata": {},
   "outputs": [],
   "source": [
    "# Load example dataset \n",
    "# The function already does train/test split, but combinining them into one for the sake of the notebook\n",
    "(x_train, y_train), (x_test, y_test)= tf.keras.datasets.boston_housing.load_data(path=\"boston_housing.npz\")\n",
    "\n",
    "# Input Data\n",
    "x_data = np.concatenate([x_train, x_test]) \n",
    "\n",
    "# Output data\n",
    "y_data = np.concatenate([y_train, y_test])\n",
    "y_data = np.expand_dims(y_data, axis=-1)\n",
    "\n",
    "# Combined (with target value at the end)\n",
    "housing_data = np.concatenate([x_data, y_data], axis=-1)"
   ]
  },
  {
   "cell_type": "code",
   "execution_count": 5,
   "metadata": {},
   "outputs": [
    {
     "data": {
      "text/plain": [
       "(506, 14)"
      ]
     },
     "execution_count": 5,
     "metadata": {},
     "output_type": "execute_result"
    }
   ],
   "source": [
    "housing_data.shape"
   ]
  },
  {
   "cell_type": "code",
   "execution_count": 6,
   "metadata": {},
   "outputs": [
    {
     "data": {
      "text/html": [
       "<div>\n",
       "<style scoped>\n",
       "    .dataframe tbody tr th:only-of-type {\n",
       "        vertical-align: middle;\n",
       "    }\n",
       "\n",
       "    .dataframe tbody tr th {\n",
       "        vertical-align: top;\n",
       "    }\n",
       "\n",
       "    .dataframe thead th {\n",
       "        text-align: right;\n",
       "    }\n",
       "</style>\n",
       "<table border=\"1\" class=\"dataframe\">\n",
       "  <thead>\n",
       "    <tr style=\"text-align: right;\">\n",
       "      <th></th>\n",
       "      <th>CRIM</th>\n",
       "      <th>ZN</th>\n",
       "      <th>INDUS</th>\n",
       "      <th>NOX</th>\n",
       "      <th>RM</th>\n",
       "      <th>AGE</th>\n",
       "      <th>DIS</th>\n",
       "      <th>RAD</th>\n",
       "      <th>TAX</th>\n",
       "      <th>PTRATIO</th>\n",
       "      <th>B</th>\n",
       "      <th>LSTAT</th>\n",
       "      <th>MEDV</th>\n",
       "    </tr>\n",
       "  </thead>\n",
       "  <tbody>\n",
       "    <tr>\n",
       "      <th>0</th>\n",
       "      <td>1.23247</td>\n",
       "      <td>0.0</td>\n",
       "      <td>8.14</td>\n",
       "      <td>0.538</td>\n",
       "      <td>6.142</td>\n",
       "      <td>91.7</td>\n",
       "      <td>3.9769</td>\n",
       "      <td>4.0</td>\n",
       "      <td>307.0</td>\n",
       "      <td>21.0</td>\n",
       "      <td>396.90</td>\n",
       "      <td>18.72</td>\n",
       "      <td>15.2</td>\n",
       "    </tr>\n",
       "    <tr>\n",
       "      <th>1</th>\n",
       "      <td>0.02177</td>\n",
       "      <td>82.5</td>\n",
       "      <td>2.03</td>\n",
       "      <td>0.415</td>\n",
       "      <td>7.610</td>\n",
       "      <td>15.7</td>\n",
       "      <td>6.2700</td>\n",
       "      <td>2.0</td>\n",
       "      <td>348.0</td>\n",
       "      <td>14.7</td>\n",
       "      <td>395.38</td>\n",
       "      <td>3.11</td>\n",
       "      <td>42.3</td>\n",
       "    </tr>\n",
       "    <tr>\n",
       "      <th>2</th>\n",
       "      <td>4.89822</td>\n",
       "      <td>0.0</td>\n",
       "      <td>18.10</td>\n",
       "      <td>0.631</td>\n",
       "      <td>4.970</td>\n",
       "      <td>100.0</td>\n",
       "      <td>1.3325</td>\n",
       "      <td>24.0</td>\n",
       "      <td>666.0</td>\n",
       "      <td>20.2</td>\n",
       "      <td>375.52</td>\n",
       "      <td>3.26</td>\n",
       "      <td>50.0</td>\n",
       "    </tr>\n",
       "    <tr>\n",
       "      <th>3</th>\n",
       "      <td>0.03961</td>\n",
       "      <td>0.0</td>\n",
       "      <td>5.19</td>\n",
       "      <td>0.515</td>\n",
       "      <td>6.037</td>\n",
       "      <td>34.5</td>\n",
       "      <td>5.9853</td>\n",
       "      <td>5.0</td>\n",
       "      <td>224.0</td>\n",
       "      <td>20.2</td>\n",
       "      <td>396.90</td>\n",
       "      <td>8.01</td>\n",
       "      <td>21.1</td>\n",
       "    </tr>\n",
       "    <tr>\n",
       "      <th>4</th>\n",
       "      <td>3.69311</td>\n",
       "      <td>0.0</td>\n",
       "      <td>18.10</td>\n",
       "      <td>0.713</td>\n",
       "      <td>6.376</td>\n",
       "      <td>88.4</td>\n",
       "      <td>2.5671</td>\n",
       "      <td>24.0</td>\n",
       "      <td>666.0</td>\n",
       "      <td>20.2</td>\n",
       "      <td>391.43</td>\n",
       "      <td>14.65</td>\n",
       "      <td>17.7</td>\n",
       "    </tr>\n",
       "  </tbody>\n",
       "</table>\n",
       "</div>"
      ],
      "text/plain": [
       "      CRIM    ZN  INDUS    NOX     RM    AGE     DIS   RAD    TAX  PTRATIO  \\\n",
       "0  1.23247   0.0   8.14  0.538  6.142   91.7  3.9769   4.0  307.0     21.0   \n",
       "1  0.02177  82.5   2.03  0.415  7.610   15.7  6.2700   2.0  348.0     14.7   \n",
       "2  4.89822   0.0  18.10  0.631  4.970  100.0  1.3325  24.0  666.0     20.2   \n",
       "3  0.03961   0.0   5.19  0.515  6.037   34.5  5.9853   5.0  224.0     20.2   \n",
       "4  3.69311   0.0  18.10  0.713  6.376   88.4  2.5671  24.0  666.0     20.2   \n",
       "\n",
       "        B  LSTAT  MEDV  \n",
       "0  396.90  18.72  15.2  \n",
       "1  395.38   3.11  42.3  \n",
       "2  375.52   3.26  50.0  \n",
       "3  396.90   8.01  21.1  \n",
       "4  391.43  14.65  17.7  "
      ]
     },
     "execution_count": 6,
     "metadata": {},
     "output_type": "execute_result"
    }
   ],
   "source": [
    "# For visualization\n",
    "house_df = pd.DataFrame(housing_data)\n",
    "\n",
    "col_names = ['CRIM','ZN', 'INDUS', \"CHAS\", 'NOX', 'RM', 'AGE', 'DIS', 'RAD', 'TAX', 'PTRATIO', 'B', 'LSTAT', 'MEDV']\n",
    "name_dict = {}\n",
    "for i in range(len(col_names)):\n",
    "    name_dict[i] = col_names[i]\n",
    "\n",
    "\n",
    "house_df = house_df.rename(columns=name_dict)\n",
    "\n",
    "# For this example, we are dropping the CHAS variable for simplicity\n",
    "house_df = house_df.drop(columns='CHAS')\n",
    "\n",
    "# Retrive data without CHAS column\n",
    "housing_data = house_df.to_numpy()\n",
    "y_column = -1\n",
    "x_data = housing_data[:, :y_column]\n",
    "y_data = housing_data[:, y_column:]\n",
    "\n",
    "house_df.head()"
   ]
  },
  {
   "cell_type": "code",
   "execution_count": 7,
   "metadata": {},
   "outputs": [
    {
     "data": {
      "image/png": "[encoded data removed]",
      "text/plain": [
       "<Figure size 1080x720 with 16 Axes>"
      ]
     },
     "metadata": {
      "needs_background": "light"
     },
     "output_type": "display_data"
    }
   ],
   "source": [
    "# Plot Distributiosn\n",
    "house_df.hist(figsize=(15, 10), bins=20)\n",
    "plt.show()"
   ]
  },
  {
   "cell_type": "markdown",
   "metadata": {},
   "source": [
    "## Split Data into Training/Validation/Test sets"
   ]
  },
  {
   "cell_type": "code",
   "execution_count": 8,
   "metadata": {},
   "outputs": [],
   "source": [
    "# Ratio of Splits\n",
    "train_split = 0.7\n",
    "val_split = 0.15\n",
    "test_split = 1 - train_split - val_split\n",
    "\n",
    "nsamples = x_data.shape[0]\n",
    "nval = int(nsamples * val_split)\n",
    "\n",
    "\n",
    "# Split data\n",
    "x_train, x_tmp, y_train, y_tmp = train_test_split(x_data, y_data, train_size=train_split)\n",
    "x_val, x_test, y_val, y_test = train_test_split(x_tmp, y_tmp, train_size=nval)"
   ]
  },
  {
   "cell_type": "code",
   "execution_count": 9,
   "metadata": {},
   "outputs": [
    {
     "data": {
      "text/plain": [
       "(354, 12)"
      ]
     },
     "execution_count": 9,
     "metadata": {},
     "output_type": "execute_result"
    }
   ],
   "source": [
    "x_train.shape"
   ]
  },
  {
   "cell_type": "code",
   "execution_count": 10,
   "metadata": {},
   "outputs": [
    {
     "data": {
      "text/plain": [
       "(354, 1)"
      ]
     },
     "execution_count": 10,
     "metadata": {},
     "output_type": "execute_result"
    }
   ],
   "source": [
    "y_train.shape"
   ]
  },
  {
   "cell_type": "markdown",
   "metadata": {},
   "source": [
    "## Preprocess Data\n",
    "The preprocessing is first performed on the training set, then apply to the val/test set\n",
    "\n",
    "Since each of the input attributes and the output attribute are on different scales, we normalize each one independently. \n",
    "\n",
    "We will use the sklearn StandardScaler to perform normalizatin of mean-center and unit variance, since it centering and scaling happen independently on each feature "
   ]
  },
  {
   "cell_type": "code",
   "execution_count": 11,
   "metadata": {},
   "outputs": [],
   "source": [
    "# Normalize input data\n",
    "x_scaler = StandardScaler()\n",
    "norm_x_train = x_scaler.fit_transform(x_train)\n",
    "\n",
    "# Apply fitted scaler to validation and test set\n",
    "norm_x_val = x_scaler.transform(x_val)\n",
    "norm_x_test = x_scaler.transform(x_test)\n",
    "\n",
    "# Now normalize output data\n",
    "y_scaler = StandardScaler()\n",
    "norm_y_train = y_scaler.fit_transform(y_train)\n",
    "\n",
    "norm_y_val = y_scaler.transform(y_val)\n",
    "norm_y_test = y_scaler.transform(y_test)"
   ]
  },
  {
   "cell_type": "code",
   "execution_count": 12,
   "metadata": {},
   "outputs": [
    {
     "data": {
      "image/png": "[encoded data removed]",
      "text/plain": [
       "<Figure size 1080x720 with 12 Axes>"
      ]
     },
     "metadata": {
      "needs_background": "light"
     },
     "output_type": "display_data"
    }
   ],
   "source": [
    "# Visualization of normalized training data\n",
    "new_col_names = ['CRIM','ZN', 'INDUS', 'NOX', 'RM', 'AGE', 'DIS', 'RAD', 'TAX', 'PTRATIO', 'B', 'LSTAT']\n",
    "norm_train_df = pd.DataFrame(norm_x_train, columns=new_col_names)\n",
    "\n",
    "norm_train_df.hist(figsize=(15, 10), bins=20)\n",
    "plt.show()"
   ]
  },
  {
   "cell_type": "markdown",
   "metadata": {},
   "source": [
    "## Build Model"
   ]
  },
  {
   "cell_type": "code",
   "execution_count": 13,
   "metadata": {},
   "outputs": [
    {
     "name": "stdout",
     "output_type": "stream",
     "text": [
      "Model: \"model\"\n",
      "_________________________________________________________________\n",
      "Layer (type)                 Output Shape              Param #   \n",
      "=================================================================\n",
      "input_1 (InputLayer)         [(None, 12)]              0         \n",
      "_________________________________________________________________\n",
      "dense (Dense)                (None, 16)                208       \n",
      "_________________________________________________________________\n",
      "activation (Activation)      (None, 16)                0         \n",
      "_________________________________________________________________\n",
      "dense_1 (Dense)              (None, 8)                 136       \n",
      "_________________________________________________________________\n",
      "activation_1 (Activation)    (None, 8)                 0         \n",
      "_________________________________________________________________\n",
      "dense_2 (Dense)              (None, 1)                 9         \n",
      "=================================================================\n",
      "Total params: 353\n",
      "Trainable params: 353\n",
      "Non-trainable params: 0\n",
      "_________________________________________________________________\n"
     ]
    }
   ],
   "source": [
    "# Clear any existin models\n",
    "keras.backend.clear_session()\n",
    "\n",
    "# Input layer for your model, where shape is the number of input features\n",
    "# norm_x_train.shape = (Number of training samples, number of input featurs)\n",
    "\n",
    "ninput_features = norm_x_train.shape[1:]\n",
    "nout = norm_y_train.shape[1]\n",
    "\n",
    "input_layer = Input(shape=ninput_features)\n",
    "\n",
    "# Dense layer with Relu\n",
    "nunits = 16\n",
    "x = Dense(nunits)(input_layer)\n",
    "x = Activation('relu')(x)\n",
    "\n",
    "# Dense layer with Relu\n",
    "nunits = 8\n",
    "x = Dense(nunits)(x)\n",
    "x = Activation('relu')(x)\n",
    "# Output layer\n",
    "out = Dense(nout)(x)\n",
    "\n",
    "model = Model(input_layer, out)\n",
    "model.summary()"
   ]
  },
  {
   "cell_type": "markdown",
   "metadata": {},
   "source": [
    "## Select Loss Function, Learning Rate, and Optimizer \n",
    "\n",
    "Regression problems typucally  use mean_squared_erro"
   ]
  },
  {
   "cell_type": "code",
   "execution_count": 14,
   "metadata": {},
   "outputs": [],
   "source": [
    "learning_rate = 0.001\n",
    "loss_function = 'mean_squared_error'\n",
    "\n",
    "# Using the ADam optimizer for this example\n",
    "optimizer = Adam(lr=learning_rate)\n",
    "\n",
    "# Compile model with optimizer and learning rate\n",
    "model.compile(optimizer=optimizer, loss=loss_function)"
   ]
  },
  {
   "cell_type": "markdown",
   "metadata": {},
   "source": [
    "## Train Model"
   ]
  },
  {
   "cell_type": "code",
   "execution_count": 15,
   "metadata": {},
   "outputs": [
    {
     "name": "stdout",
     "output_type": "stream",
     "text": [
      "Epoch 1/30\n",
      "23/23 [==============================] - 1s 18ms/step - loss: 1.3082 - val_loss: 0.8708\n",
      "Epoch 2/30\n",
      "23/23 [==============================] - 0s 2ms/step - loss: 0.8909 - val_loss: 0.6639\n",
      "Epoch 3/30\n",
      "23/23 [==============================] - 0s 7ms/step - loss: 0.7673 - val_loss: 0.5692\n",
      "Epoch 4/30\n",
      "23/23 [==============================] - 0s 2ms/step - loss: 0.5621 - val_loss: 0.5077\n",
      "Epoch 5/30\n",
      "23/23 [==============================] - 0s 2ms/step - loss: 0.5428 - val_loss: 0.4559\n",
      "Epoch 6/30\n",
      "23/23 [==============================] - 0s 2ms/step - loss: 0.5450 - val_loss: 0.3980\n",
      "Epoch 7/30\n",
      "23/23 [==============================] - 0s 2ms/step - loss: 0.3223 - val_loss: 0.3463\n",
      "Epoch 8/30\n",
      "23/23 [==============================] - 0s 2ms/step - loss: 0.3788 - val_loss: 0.3075\n",
      "Epoch 9/30\n",
      "23/23 [==============================] - 0s 2ms/step - loss: 0.3368 - val_loss: 0.2793\n",
      "Epoch 10/30\n",
      "23/23 [==============================] - 0s 2ms/step - loss: 0.3521 - val_loss: 0.2559\n",
      "Epoch 11/30\n",
      "23/23 [==============================] - 0s 2ms/step - loss: 0.2870 - val_loss: 0.2434\n",
      "Epoch 12/30\n",
      "23/23 [==============================] - 0s 3ms/step - loss: 0.2594 - val_loss: 0.2334\n",
      "Epoch 13/30\n",
      "23/23 [==============================] - 0s 2ms/step - loss: 0.1826 - val_loss: 0.2242\n",
      "Epoch 14/30\n",
      "23/23 [==============================] - 0s 2ms/step - loss: 0.2403 - val_loss: 0.2129\n",
      "Epoch 15/30\n",
      "23/23 [==============================] - 0s 2ms/step - loss: 0.2473 - val_loss: 0.2078\n",
      "Epoch 16/30\n",
      "23/23 [==============================] - 0s 2ms/step - loss: 0.1745 - val_loss: 0.2015\n",
      "Epoch 17/30\n",
      "23/23 [==============================] - 0s 2ms/step - loss: 0.1957 - val_loss: 0.1957\n",
      "Epoch 18/30\n",
      "23/23 [==============================] - 0s 2ms/step - loss: 0.1854 - val_loss: 0.1908\n",
      "Epoch 19/30\n",
      "23/23 [==============================] - 0s 2ms/step - loss: 0.2035 - val_loss: 0.1892\n",
      "Epoch 20/30\n",
      "23/23 [==============================] - 0s 2ms/step - loss: 0.2256 - val_loss: 0.1811\n",
      "Epoch 21/30\n",
      "23/23 [==============================] - 0s 2ms/step - loss: 0.1633 - val_loss: 0.1794\n",
      "Epoch 22/30\n",
      "23/23 [==============================] - 0s 2ms/step - loss: 0.1627 - val_loss: 0.1770\n",
      "Epoch 23/30\n",
      "23/23 [==============================] - 0s 2ms/step - loss: 0.1704 - val_loss: 0.1700\n",
      "Epoch 24/30\n",
      "23/23 [==============================] - 0s 2ms/step - loss: 0.1286 - val_loss: 0.1715\n",
      "Epoch 25/30\n",
      "23/23 [==============================] - 0s 2ms/step - loss: 0.1768 - val_loss: 0.1644\n",
      "Epoch 26/30\n",
      "23/23 [==============================] - 0s 2ms/step - loss: 0.1584 - val_loss: 0.1614\n",
      "Epoch 27/30\n",
      "23/23 [==============================] - 0s 2ms/step - loss: 0.1283 - val_loss: 0.1611\n",
      "Epoch 28/30\n",
      "23/23 [==============================] - 0s 2ms/step - loss: 0.1277 - val_loss: 0.1561\n",
      "Epoch 29/30\n",
      "23/23 [==============================] - 0s 2ms/step - loss: 0.1456 - val_loss: 0.1528\n",
      "Epoch 30/30\n",
      "23/23 [==============================] - 0s 2ms/step - loss: 0.1271 - val_loss: 0.1538\n"
     ]
    }
   ],
   "source": [
    "#Number of epochs to train\n",
    "epochs = 30\n",
    "\n",
    "# Number of samples it trains on at a time\n",
    "batch_size = 16\n",
    "\n",
    "# Name of model\n",
    "model_name = 'example_model'\n",
    "\n",
    "# Directory to save model\n",
    "model_save_dir = \"example_dir\"\n",
    "os.makedirs(model_save_dir, exist_ok=True)\n",
    "\n",
    "# CSV file that keeps track of training and validation loss\n",
    "csv_file = \"{}_training.csv\".format(model_name)\n",
    "train_csv = os.path.join(model_save_dir, csv_file)\n",
    "csv_logger = CSVLogger(train_csv)\n",
    "callbacks=[csv_logger]\n",
    "\n",
    "history = model.fit(x=norm_x_train, y=norm_y_train,\n",
    "        epochs=epochs, batch_size=batch_size,\n",
    "        validation_data=(norm_x_val, norm_y_val),\n",
    "        callbacks=callbacks)"
   ]
  },
  {
   "cell_type": "markdown",
   "metadata": {},
   "source": [
    "## Plot training loss"
   ]
  },
  {
   "cell_type": "code",
   "execution_count": 16,
   "metadata": {},
   "outputs": [
    {
     "data": {
      "image/png": "[encoded data removed]",
      "text/plain": [
       "<Figure size 432x288 with 1 Axes>"
      ]
     },
     "metadata": {
      "needs_background": "light"
     },
     "output_type": "display_data"
    }
   ],
   "source": [
    "# summarize history for loss\n",
    "plt.plot(history.history['loss'])\n",
    "plt.plot(history.history['val_loss'])\n",
    "plt.title('model loss')\n",
    "plt.ylabel('loss')\n",
    "plt.xlabel('epoch')\n",
    "plt.legend(['train', 'validation'], loc='upper left')\n",
    "plt.show()"
   ]
  },
  {
   "cell_type": "markdown",
   "metadata": {},
   "source": [
    "## Run Trained Model on Test Set"
   ]
  },
  {
   "cell_type": "code",
   "execution_count": 17,
   "metadata": {},
   "outputs": [
    {
     "name": "stdout",
     "output_type": "stream",
     "text": [
      "Test MSE: 11.14\n"
     ]
    },
    {
     "data": {
      "image/png": "[encoded data removed]",
      "text/plain": [
       "<Figure size 432x288 with 1 Axes>"
      ]
     },
     "metadata": {
      "needs_background": "light"
     },
     "output_type": "display_data"
    }
   ],
   "source": [
    "predict_test = model.predict(norm_x_test)\n",
    "\n",
    "# Rescale prediction to original scale\n",
    "predict_values = y_scaler.inverse_transform(predict_test)\n",
    "\n",
    "# Caclulate mean-square-error on data\n",
    "test_mse = sklearn.metrics.mean_squared_error(y_test, predict_values)\n",
    "print(f\"Test MSE: {test_mse:.4}\")\n",
    "\n",
    "# Compare to y_test values\n",
    "plt.scatter(y_test, predict_values)\n",
    "plt.xlabel(\"True Values\")\n",
    "plt.ylabel(\"Predicted Values\")\n",
    "plt.title(\"Test Dataset Results\")\n",
    "plt.show()"
   ]
  },
  {
   "cell_type": "code",
   "execution_count": 18,
   "metadata": {},
   "outputs": [
    {
     "name": "stdout",
     "output_type": "stream",
     "text": [
      "Train MSE: 12.67\n"
     ]
    },
    {
     "data": {
      "image/png": "[encoded data removed]",
      "text/plain": [
       "<Figure size 432x288 with 1 Axes>"
      ]
     },
     "metadata": {
      "needs_background": "light"
     },
     "output_type": "display_data"
    }
   ],
   "source": [
    "# RUn test on trained dataset\n",
    "predict_train = model.predict(norm_x_train)\n",
    "\n",
    "predict_values = y_scaler.inverse_transform(predict_train)\n",
    "\n",
    "# Caclulate mean-square-error on data\n",
    "train_mse = sklearn.metrics.mean_squared_error(y_train, predict_values)\n",
    "print(f\"Train MSE: {train_mse:.4}\")\n",
    "\n",
    "# Compare to y_train values\n",
    "plt.scatter(y_train, predict_values)\n",
    "plt.xlabel(\"True Values\")\n",
    "plt.ylabel(\"Predicted Values\")\n",
    "plt.title(\"Train Dataset Results\")\n",
    "plt.show()"
   ]
  },
  {
   "cell_type": "markdown",
   "metadata": {},
   "source": [
    "## Save Model"
   ]
  },
  {
   "cell_type": "code",
   "execution_count": 19,
   "metadata": {},
   "outputs": [],
   "source": [
    "model_save_name = f\"{model_name}_model.h5\"\n",
    "save_path = os.path.join(model_save_dir, model_save_name)\n",
    "model.save(save_path)"
   ]
  },
  {
   "cell_type": "code",
   "execution_count": null,
   "metadata": {},
   "outputs": [],
   "source": []
  }
 ],
 "metadata": {
  "kernelspec": {
   "display_name": "Python 3 (ipykernel)",
   "language": "python",
   "name": "python3"
  },
  "language_info": {
   "codemirror_mode": {
    "name": "ipython",
    "version": 3
   },
   "file_extension": ".py",
   "mimetype": "text/x-python",
   "name": "python",
   "nbconvert_exporter": "python",
   "pygments_lexer": "ipython3",
   "version": "3.9.6"
  }
 },
 "nbformat": 4,
 "nbformat_minor": 4
}
